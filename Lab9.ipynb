{
  "nbformat": 4,
  "nbformat_minor": 0,
  "metadata": {
    "colab": {
      "provenance": []
    },
    "kernelspec": {
      "name": "python3",
      "display_name": "Python 3"
    },
    "language_info": {
      "name": "python"
    }
  },
  "cells": [
    {
      "cell_type": "code",
      "execution_count": null,
      "metadata": {
        "colab": {
          "base_uri": "https://localhost:8080/"
        },
        "id": "jw-KyK5E2MAx",
        "outputId": "43ae4c71-d2a1-47ce-f126-fc291508e0ab"
      },
      "outputs": [
        {
          "output_type": "stream",
          "name": "stdout",
          "text": [
            "Shortest path to goal 'E': A -> H -> E\n"
          ]
        },
        {
          "output_type": "execute_result",
          "data": {
            "text/plain": [
              "['A', 'H', 'E']"
            ]
          },
          "metadata": {},
          "execution_count": 2
        }
      ],
      "source": [
        "#Task 1\n",
        "from collections import deque\n",
        "\n",
        "def bfs_shortest_path(graph, start_node, goal):\n",
        "    visited = set()  # Track visited nodes\n",
        "    queue = deque([start_node])  # Initialize queue with the start node\n",
        "    visited.add(start_node)\n",
        "    # Dictionary to store the predecessor of each visited node\n",
        "    previous = {start_node: None}\n",
        "\n",
        "    while queue:\n",
        "        current_node = queue.popleft()\n",
        "\n",
        "        # Check if the goal is reached\n",
        "        if current_node == goal:\n",
        "            # Reconstruct the path from start_node to goal\n",
        "            path = []\n",
        "            while current_node is not None:\n",
        "                path.append(current_node)\n",
        "                current_node = previous[current_node]  # Move to the previous node\n",
        "            path.reverse()  # Reverse to get the path from start to goal\n",
        "            print(f\"Shortest path to goal '{goal}':\", \" -> \".join(path))\n",
        "            return path  # Return the path for further use if needed\n",
        "\n",
        "        for neighbor in graph[current_node]:  # Iterate over neighbors\n",
        "            if neighbor not in visited:\n",
        "                visited.add(neighbor)\n",
        "                queue.append(neighbor)      # Queue the neighbor\n",
        "                previous[neighbor] = current_node  # Set previous node\n",
        "\n",
        "    # If we exit the loop without finding the goal\n",
        "    print(f\"Goal '{goal}' not reachable from '{start_node}'.\")\n",
        "    return None\n",
        "\n",
        "# Example usage\n",
        "graph = {\n",
        "    \"A\": [\"B\", \"C\", \"H\"],\n",
        "    \"B\": [\"A\"],\n",
        "    \"C\": [\"A\", \"D\"],\n",
        "    \"D\": [\"C\", \"E\", \"F\"],\n",
        "    \"E\": [\"D\", \"G\", \"H\"],\n",
        "    \"F\": [\"D\", \"G\"],\n",
        "    \"G\": [\"E\", \"F\"],\n",
        "    \"H\": [\"A\", \"E\"]\n",
        "}\n",
        "\n",
        "# Starting from 'A' and searching for shortest path to goal node 'E'\n",
        "bfs_shortest_path(graph, 'A', 'E')\n"
      ]
    },
    {
      "cell_type": "code",
      "source": [
        "#Task 2\n",
        "def dfs(graph, start_node, visited=None):\n",
        "    if visited is None:\n",
        "        visited = set()  # Initialize visited set on the first call\n",
        "    visited.add(start_node)  # Mark the current node as visited\n",
        "    print(start_node)  # Process the current node (e.g., print it)\n",
        "\n",
        "    for neighbor in graph.get(start_node, []):  # Use .get to avoid KeyError\n",
        "        if neighbor not in visited:  # If the neighbor hasn't been visited\n",
        "            dfs(graph, neighbor, visited)  # Recursive call for DFS\n",
        "\n",
        "graph = {\n",
        "    \"A\": [\"B\", \"C\", \"H\"],\n",
        "    \"B\": [\"A\"],\n",
        "    \"C\": [\"A\", \"D\"],\n",
        "    \"D\": [\"C\", \"E\", \"F\"],\n",
        "    \"E\": [\"D\", \"G\", \"H\"],\n",
        "    \"F\": [\"D\", \"G\"],\n",
        "    \"G\": [\"E\", \"F\"],\n",
        "    \"H\": [\"A\", \"E\"]\n",
        "}\n",
        "\n",
        "dfs(graph, 'A')\n"
      ],
      "metadata": {
        "colab": {
          "base_uri": "https://localhost:8080/"
        },
        "id": "cehN5iKR3F2O",
        "outputId": "53cee126-faca-47bf-953f-f79fb2317e63"
      },
      "execution_count": null,
      "outputs": [
        {
          "output_type": "stream",
          "name": "stdout",
          "text": [
            "A\n",
            "B\n",
            "C\n",
            "D\n",
            "E\n",
            "G\n",
            "F\n",
            "H\n"
          ]
        }
      ]
    },
    {
      "cell_type": "code",
      "source": [
        "#Task 3\n",
        "from collections import deque\n",
        "\n",
        "class PuzzleState:\n",
        "    def __init__(self, board, empty_tile_position, moves=0):\n",
        "        self.board = board\n",
        "        self.empty_tile_position = empty_tile_position\n",
        "        self.moves = moves\n",
        "\n",
        "    def __str__(self):\n",
        "        return '\\n'.join([' '.join(map(str, row)) for row in self.board])\n",
        "\n",
        "    def get_possible_moves(self):\n",
        "        row, col = self.empty_tile_position\n",
        "        moves = []\n",
        "\n",
        "        directions = [(1, 0), (-1, 0), (0, 1), (0, -1)]\n",
        "\n",
        "        for dr, dc in directions:\n",
        "            new_row, new_col = row + dr, col + dc\n",
        "            if 0 <= new_row < 3 and 0 <= new_col < 3:\n",
        "                moves.append((new_row, new_col))\n",
        "        return moves\n",
        "\n",
        "    def move(self, new_empty_tile_position):\n",
        "        new_row, new_col = new_empty_tile_position\n",
        "        row, col = self.empty_tile_position\n",
        "        new_board = [list(r) for r in self.board]  # Correct list copying\n",
        "\n",
        "        new_board[row][col], new_board[new_row][new_col] = new_board[new_row][new_col], new_board[row][col]\n",
        "\n",
        "        return PuzzleState(new_board, (new_row, new_col), self.moves + 1)\n",
        "\n",
        "def bfs(start_board, goal_board):\n",
        "    start_state = PuzzleState(start_board, find_empty_tile(start_board))\n",
        "    goal_state = PuzzleState(goal_board, find_empty_tile(goal_board))\n",
        "\n",
        "    queue = deque([start_state])\n",
        "    visited = set()\n",
        "    visited.add(str(start_state))\n",
        "\n",
        "    while queue:\n",
        "        current_state = queue.popleft()\n",
        "\n",
        "        if current_state.board == goal_state.board:\n",
        "            return current_state.moves\n",
        "\n",
        "        for new_empty_tile_position in current_state.get_possible_moves():\n",
        "            new_state = current_state.move(new_empty_tile_position)\n",
        "\n",
        "            if str(new_state) not in visited:\n",
        "                visited.add(str(new_state))\n",
        "                queue.append(new_state)\n",
        "\n",
        "    return -1\n",
        "\n",
        "def find_empty_tile(board):\n",
        "    for i in range(3):\n",
        "        for j in range(3):\n",
        "            if board[i][j] == 0:\n",
        "                return (i, j)\n",
        "\n",
        "start_board = [\n",
        "    [1, 2, 3],\n",
        "    [4, 0, 5],\n",
        "    [7, 8, 6]\n",
        "]\n",
        "\n",
        "goal_board = [\n",
        "    [1, 2, 3],\n",
        "    [4, 5, 6],\n",
        "    [7, 8, 0]\n",
        "]\n",
        "\n",
        "moves = bfs(start_board, goal_board)\n",
        "\n",
        "if moves != -1:\n",
        "    print(f\"Solved in {moves} moves.\")\n",
        "else:\n",
        "    print(\"The goal state is unreachable.\")\n"
      ],
      "metadata": {
        "id": "1PoTDG3Q3xjY",
        "colab": {
          "base_uri": "https://localhost:8080/"
        },
        "outputId": "34993631-5a39-4d8e-cfcc-6707ad819996"
      },
      "execution_count": 1,
      "outputs": [
        {
          "output_type": "stream",
          "name": "stdout",
          "text": [
            "Solved in 2 moves.\n"
          ]
        }
      ]
    },
    {
      "cell_type": "code",
      "source": [
        "#Task 4\n",
        "\n",
        "# Define the graph as an adjacency list with distances\n",
        "graph = {\n",
        "    'Arad': [('Zerind', 75), ('Timisoara', 118), ('Sibiu', 140)],\n",
        "    'Zerind': [('Oradea', 71), ('Arad', 75)],\n",
        "    'Oradea': [('Sibiu', 151), ('Zerind', 71)],\n",
        "    'Timisoara': [('Lugoj', 111), ('Arad', 118)],\n",
        "    'Lugoj': [('Timisoara', 111), ('Mehadia', 70)],\n",
        "    'Mehadia': [('Lugoj', 70), ('Drobeta', 75)],\n",
        "    'Drobeta': [('Mehadia', 75), ('Craiova', 120)],\n",
        "    'Craiova': [('Drobeta', 120), ('Rimnicu Vilcea', 146), ('Pitesti', 138)],\n",
        "    'Rimnicu Vilcea': [('Sibiu', 80), ('Craiova', 146), ('Pitesti', 97)],\n",
        "    'Sibiu': [('Arad', 140), ('Oradea', 151), ('Fagaras', 99), ('Rimnicu Vilcea', 80)],\n",
        "    'Fagaras': [('Sibiu', 99), ('Bucharest', 211)],\n",
        "    'Pitesti': [('Rimnicu Vilcea', 97), ('Craiova', 138), ('Bucharest', 101)],\n",
        "    'Bucharest': [('Fagaras', 211), ('Pitesti', 101), ('Giurgiu', 90), ('Urziceni', 85)],\n",
        "    'Giurgiu': [('Bucharest', 90)],\n",
        "    'Urziceni': [('Bucharest', 85), ('Hirsova', 98), ('Vaslui', 142)],\n",
        "    'Hirsova': [('Urziceni', 98), ('Eforie', 86)],\n",
        "    'Eforie': [('Hirsova', 86)],\n",
        "    'Vaslui': [('Urziceni', 142), ('Iasi', 92)],\n",
        "    'Iasi': [('Vaslui', 92), ('Neamt', 87)],\n",
        "    'Neamt': [('Iasi', 87)]\n",
        "}\n",
        "\n",
        "# DFS function to find a path from start to goal\n",
        "def dfs(graph, start, goal, path=None, visited=None):\n",
        "    if path is None:\n",
        "        path = []\n",
        "    if visited is None:\n",
        "        visited = set()\n",
        "\n",
        "    path.append(start)\n",
        "    visited.add(start)\n",
        "\n",
        "    if start == goal:\n",
        "        return path  # Return path when the goal is reached\n",
        "\n",
        "    # Explore neighbors\n",
        "    for (neighbor, distance) in graph.get(start, []):\n",
        "        if neighbor not in visited:\n",
        "            result = dfs(graph, neighbor, goal, path, visited)\n",
        "            if result:  # If a valid path is found, return it\n",
        "                return result\n",
        "\n",
        "    path.pop()  # Backtrack if no path found from this route\n",
        "    return None\n",
        "\n",
        "# Use DFS to find a path from Arad to Bucharest\n",
        "path = dfs(graph, 'Arad', 'Bucharest')\n",
        "print(\"Path from Arad to Bucharest:\", path)\n"
      ],
      "metadata": {
        "colab": {
          "base_uri": "https://localhost:8080/"
        },
        "id": "NBTBR5cFFlCL",
        "outputId": "815eac89-f24e-444d-cbe7-43a92d3e0271"
      },
      "execution_count": 2,
      "outputs": [
        {
          "output_type": "stream",
          "name": "stdout",
          "text": [
            "Path from Arad to Bucharest: ['Arad', 'Zerind', 'Oradea', 'Sibiu', 'Fagaras', 'Bucharest']\n"
          ]
        }
      ]
    }
  ]
}